{
 "cells": [
  {
   "cell_type": "code",
   "execution_count": 9,
   "metadata": {},
   "outputs": [],
   "source": [
    "import numpy\n",
    "import cv2\n",
    "import math"
   ]
  },
  {
   "cell_type": "code",
   "execution_count": 10,
   "metadata": {},
   "outputs": [],
   "source": [
    "interpolationMethods = {\n",
    "         0: cv2.INTER_NEAREST, \n",
    "         1: cv2.INTER_LINEAR, \n",
    "         2: cv2.INTER_CUBIC\n",
    "}"
   ]
  },
  {
   "cell_type": "code",
   "execution_count": 11,
   "metadata": {},
   "outputs": [],
   "source": [
    "def open_img(img):\n",
    "    cv2.imshow('Image', img)\n",
    "    cv2.waitKey(0)\n",
    "    cv2.destroyAllWindows()"
   ]
  },
  {
   "cell_type": "code",
   "execution_count": 12,
   "metadata": {},
   "outputs": [],
   "source": [
    "def rotate_img(img, angle):\n",
    " \n",
    "    angle %=360\n",
    " \n",
    "    # http://qaru.site/questions/274040/image-size-python-opencv\n",
    "    (height, width) = img.shape[:2]\n",
    "    (center_x, center_y) = (width // 2, height // 2)\n",
    "    cos = numpy.cos(angle)\n",
    "    sin = numpy.sin(angle)\n",
    " \n",
    "    M = cv2.getRotationMatrix2D((center_x, center_y), angle, 1.0)\n",
    "    \n",
    "    #http://qaru.site/questions/121230/rotate-image-and-crop-out-black-borders\n",
    "    quadrant = int(math.floor(angle / (math.pi / 2))) & 3\n",
    "    sign_alpha = angle if ((quadrant & 1) == 0) else math.pi - angle\n",
    "    alpha = (sign_alpha % math.pi + math.pi) % math.pi\n",
    "\n",
    "    new_width = width * math.cos(alpha) + height * math.sin(alpha)\n",
    "    new_height = width * math.sin(alpha) + height * math.cos(alpha)\n",
    "\n",
    "    gamma = math.atan2(new_width, new_width) if (width < height) else math.atan2(new_height, new_height)\n",
    "\n",
    "    delta = math.pi - alpha - gamma\n",
    "\n",
    "    length = height if (width < height) else width\n",
    "\n",
    "    d = length * math.cos(alpha)\n",
    "    a = d * math.sin(alpha) / math.sin(delta)\n",
    "\n",
    "    y = a * math.cos(gamma)\n",
    "    x = y * math.tan(gamma)\n",
    "\n",
    "    new_width = int(new_width - 2 * x)\n",
    "    new_height = int(new_height - 2 * y)\n",
    "\n",
    "    M[0, 2] += (new_width/ 2) - center_x\n",
    "    M[1, 2] += (new_height / 2) - center_y\n",
    "    \n",
    "    img = cv2.warpAffine(img, M, (new_width, new_height))\n",
    "    return img"
   ]
  },
  {
   "cell_type": "code",
   "execution_count": null,
   "metadata": {},
   "outputs": [
    {
     "name": "stdout",
     "output_type": "stream",
     "text": [
      "Введите абсолютный путь до изображения: /Users/xtail/Projects/LETI/ImageProcessing/labs/lab1/test_files/2.jpg\n",
      "Введите угол поворота (в градусах): 75\n",
      "Введите коэффициент сжатия из диапазона (0;1]: 0.45\n",
      "Выберите признак интерполяционной схемы (0 – нулевого порядка, 1 – первого порядка, 2 - третьего порядка): 0\n",
      "Ввведите путь для сохранения изображения: /Users/xtail/Projects/LETI/ImageProcessing/labs/lab1/result\n"
     ]
    }
   ],
   "source": [
    "img = cv2.imread(input(\"Введите абсолютный путь до изображения: \")) \n",
    "angle = int(input(\"Введите угол поворота (в градусах): \"))\n",
    "k = float(input(\"Введите коэффициент сжатия из диапазона (0;1]: \"))\n",
    "interpolation = int(input(\"Выберите признак интерполяционной схемы (0 – нулевого порядка, 1 – первого порядка, 2 - третьего порядка): \"))\n",
    "new_img= rotate_img(img, angle)\n",
    "result_img = cv2.resize(new_img, None, fx =k, fy=1/k,interpolation=interpolationMethods[interpolation])\n",
    "result_path = input(\"Ввведите путь для сохранения изображения: \")\n",
    "cv2.imwrite(result_path + \"/result.bmp\", result_img);\n",
    "#cv2.imwrite(\"result.bmp\", result_img);\n",
    "open_img(result_img)"
   ]
  },
  {
   "cell_type": "code",
   "execution_count": null,
   "metadata": {},
   "outputs": [],
   "source": []
  },
  {
   "cell_type": "code",
   "execution_count": null,
   "metadata": {},
   "outputs": [],
   "source": []
  },
  {
   "cell_type": "code",
   "execution_count": null,
   "metadata": {},
   "outputs": [],
   "source": []
  }
 ],
 "metadata": {
  "kernelspec": {
   "display_name": "Python 3",
   "language": "python",
   "name": "python3"
  }
 },
 "nbformat": 4,
 "nbformat_minor": 2
}
