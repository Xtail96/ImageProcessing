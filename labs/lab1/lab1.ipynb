{
 "cells": [
  {
   "cell_type": "code",
   "execution_count": 2,
   "metadata": {},
   "outputs": [],
   "source": [
    "import numpy\n",
    "import cv2\n",
    "import math"
   ]
  },
  {
   "cell_type": "code",
   "execution_count": 3,
   "metadata": {},
   "outputs": [],
   "source": [
    "interpolationMethods = {\n",
    "         0: cv2.INTER_NEAREST, \n",
    "         1: cv2.INTER_LINEAR, \n",
    "         2: cv2.INTER_CUBIC\n",
    "}"
   ]
  },
  {
   "cell_type": "code",
   "execution_count": 4,
   "metadata": {},
   "outputs": [],
   "source": [
    "def open_image(img):\n",
    "    cv2.imshow('Image', img)\n",
    "    cv2.waitKey(0)\n",
    "    cv2.destroyAllWindows()"
   ]
  },
  {
   "cell_type": "code",
   "execution_count": 5,
   "metadata": {},
   "outputs": [],
   "source": [
    "def rotate_img(img, angle):\n",
    "    \n",
    "    # get image size\n",
    "    (height, width) = img.shape[:2]\n",
    "    \n",
    "    # get center coords\n",
    "    (center_x, center_y) = (width // 2, height // 2)\n",
    "    \n",
    "    # normalize an input angle\n",
    "    angle %=360\n",
    "    \n",
    "    # get sin and cos of an input angle\n",
    "    cos = numpy.cos(angle)\n",
    "    sin = numpy.sin(angle)\n",
    " \n",
    "    # get opencv rotation matrix\n",
    "    rotation_matrix = cv2.getRotationMatrix2D((center_x, center_y), angle, 1.0)\n",
    "    \n",
    "    # rotate image without borders (http://qaru.site/questions/121230/rotate-image-and-crop-out-black-borders)\n",
    "    quadrant = int(math.floor(angle / (math.pi / 2))) & 3\n",
    "    sign_alpha = angle if ((quadrant & 1) == 0) else math.pi - angle\n",
    "    alpha = (sign_alpha % math.pi + math.pi) % math.pi\n",
    "\n",
    "    ## calculate width and height after rotation\n",
    "    new_width = width * math.cos(alpha) + height * math.sin(alpha)\n",
    "    new_height = width * math.sin(alpha) + height * math.cos(alpha)\n",
    "\n",
    "    gamma = math.atan2(new_width, new_width) if (width < height) else math.atan2(new_height, new_height)\n",
    "    delta = math.pi - alpha - gamma\n",
    "\n",
    "    length = max(width, height)\n",
    "    y = (length * math.cos(alpha) * math.sin(alpha) / math.sin(delta)) * math.cos(gamma)\n",
    "    x = y * math.tan(gamma)\n",
    "\n",
    "    ## update width and height\n",
    "    new_width = int(new_width - 2 * x)\n",
    "    new_height = int(new_height - 2 * y)\n",
    "\n",
    "    ## update rotation matrix\n",
    "    rotation_matrix[0, 2] += (new_width / 2) - center_x\n",
    "    rotation_matrix[1, 2] += (new_height / 2) - center_y\n",
    "    \n",
    "    ## apply affine transformation and return result\n",
    "    img = cv2.warpAffine(img, rotation_matrix, (new_width, new_height))\n",
    "    return img"
   ]
  },
  {
   "cell_type": "code",
   "execution_count": null,
   "metadata": {},
   "outputs": [
    {
     "name": "stdout",
     "output_type": "stream",
     "text": [
      "Введите абсолютный путь до изображения: /Users/xtail/Projects/LETI/ImageProcessing/labs/lab1/test_files/2.jpg\n",
      "Введите угол поворота (в градусах): 45\n",
      "Введите коэффициент сжатия из диапазона (0;1]: 0.8\n",
      "Выберите признак интерполяционной схемы (0 – нулевого порядка, 1 – первого порядка, 2 - третьего порядка): 2\n",
      "Ввведите путь для сохранения изображения: /Users/xtail/Projects/LETI/ImageProcessing/labs/lab1/result\n"
     ]
    }
   ],
   "source": [
    "origin_img = cv2.imread(input(\"Введите абсолютный путь до изображения: \")) \n",
    "angle = int(input(\"Введите угол поворота (в градусах): \"))\n",
    "k = float(input(\"Введите коэффициент сжатия из диапазона (0;1]: \"))\n",
    "interpolation_type_index = int(input(\"Выберите признак интерполяционной схемы (0 – нулевого порядка, 1 – первого порядка, 2 - третьего порядка): \"))\n",
    "rotated_img = rotate_img(origin_img, angle)\n",
    "result_img = cv2.resize(rotated_img, None, fx = k, fy = 1 / k, interpolation=interpolationMethods[interpolation_type_index])\n",
    "result_path = input(\"Ввведите путь для сохранения изображения: \")\n",
    "cv2.imwrite(result_path + \"/result.bmp\", result_img);\n",
    "open_image(result_img)"
   ]
  },
  {
   "cell_type": "code",
   "execution_count": null,
   "metadata": {},
   "outputs": [],
   "source": []
  },
  {
   "cell_type": "code",
   "execution_count": null,
   "metadata": {},
   "outputs": [],
   "source": []
  },
  {
   "cell_type": "code",
   "execution_count": null,
   "metadata": {},
   "outputs": [],
   "source": []
  }
 ],
 "metadata": {
  "kernelspec": {
   "display_name": "Python 3",
   "language": "python",
   "name": "python3"
  }
 },
 "nbformat": 4,
 "nbformat_minor": 2
}
